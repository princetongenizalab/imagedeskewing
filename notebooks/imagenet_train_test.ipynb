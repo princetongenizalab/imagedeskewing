{
 "cells": [
  {
   "cell_type": "code",
   "execution_count": 15,
   "id": "2d970cba4f03eb5f",
   "metadata": {
    "ExecuteTime": {
     "end_time": "2023-08-18T21:32:27.128811300Z",
     "start_time": "2023-08-18T21:32:27.112502300Z"
    },
    "scrolled": true
   },
   "outputs": [],
   "source": [
    "!source $CONDA_PREFIX/etc/conda/activate.d/env_vars.sh\n",
    "\n",
    "import os\n",
    "import tensorflow as tf\n",
    "import matplotlib.pyplot as plt\n",
    "import numpy as np\n",
    "import cv2\n",
    "import math"
   ]
  },
  {
   "cell_type": "code",
   "execution_count": 2,
   "id": "4bc9b1eb201b935a",
   "metadata": {
    "ExecuteTime": {
     "end_time": "2023-08-18T21:33:26.772888500Z",
     "start_time": "2023-08-18T21:33:26.756375200Z"
    }
   },
   "outputs": [],
   "source": [
    "rvl_cdip_images_dir = \"/scratch/gpfs/RUSTOW/rvl_cdip_images/labels\""
   ]
  },
  {
   "cell_type": "code",
   "execution_count": 3,
   "id": "acf98ab044477313",
   "metadata": {
    "ExecuteTime": {
     "end_time": "2023-08-18T21:33:26.922731700Z",
     "start_time": "2023-08-18T21:33:26.906281400Z"
    }
   },
   "outputs": [],
   "source": [
    "rvl_cdip_images_train_file_path = os.path.join(rvl_cdip_images_dir, \"train.txt\")\n",
    "rvl_cdip_images_test_file_path = os.path.join(rvl_cdip_images_dir, \"test.txt\")\n",
    "rvl_cdip_images_val_file_path = os.path.join(rvl_cdip_images_dir, \"val.txt\")"
   ]
  },
  {
   "cell_type": "code",
   "execution_count": 4,
   "id": "e1025582bbf6572c",
   "metadata": {},
   "outputs": [],
   "source": [
    "with open(rvl_cdip_images_train_file_path, \"r\") as f:\n",
    "    rvl_cdip_images_train_file_list = f.readlines()\n",
    "    \n",
    "with open(rvl_cdip_images_test_file_path, \"r\") as f:\n",
    "    rvl_cdip_images_test_file_list = f.readlines()\n",
    "    \n",
    "with open(rvl_cdip_images_val_file_path, \"r\") as f:\n",
    "    rvl_cdip_images_val_file_list = f.readlines()"
   ]
  },
  {
   "cell_type": "code",
   "execution_count": 5,
   "id": "392f62b2",
   "metadata": {},
   "outputs": [],
   "source": [
    "root_dir = \"/scratch/gpfs/RUSTOW/rvl_cdip_images/images\""
   ]
  },
  {
   "cell_type": "code",
   "execution_count": 6,
   "id": "7e159d1f0b485b77",
   "metadata": {},
   "outputs": [],
   "source": [
    "rvl_cdip_images_train_file_list = [x.split(\" \")[0].strip() for x in rvl_cdip_images_train_file_list]\n",
    "rvl_cdip_images_test_file_list = [x.split(\" \")[0].strip() for x in rvl_cdip_images_test_file_list]\n",
    "rvl_cdip_images_val_file_list = [x.split(\" \")[0].strip() for x in rvl_cdip_images_val_file_list]"
   ]
  },
  {
   "cell_type": "code",
   "execution_count": 7,
   "id": "f00834f7",
   "metadata": {},
   "outputs": [],
   "source": [
    "rvl_cdip_images_train_file_list = [os.path.join(root_dir, x) for x in rvl_cdip_images_train_file_list]\n",
    "rvl_cdip_images_test_file_list = [os.path.join(root_dir, x) for x in rvl_cdip_images_test_file_list]\n",
    "rvl_cdip_images_val_file_list = [os.path.join(root_dir, x) for x in rvl_cdip_images_val_file_list]"
   ]
  },
  {
   "cell_type": "code",
   "execution_count": 17,
   "id": "5f1ad4ab2acecd60",
   "metadata": {
    "ExecuteTime": {
     "end_time": "2023-08-18T21:47:58.968967700Z",
     "start_time": "2023-08-18T21:47:58.953335400Z"
    }
   },
   "outputs": [],
   "source": [
    "def load_image(path):\n",
    "    image = tf.io.read_file(path)\n",
    "    image = tf.image.decode_jpeg(image, channels=3)\n",
    "    return image\n",
    "\n",
    "def rotatedRectWithMaxArea(w, h, angle):\n",
    "    if w <= 0 or h <= 0:\n",
    "        return 0, 0\n",
    "\n",
    "    width_is_longer = w >= h\n",
    "    side_long, side_short = (w, h) if width_is_longer else (h, w)\n",
    "\n",
    "    sin_a, cos_a = abs(math.sin(angle)), abs(math.cos(angle))\n",
    "    if side_short <= 2.*sin_a*cos_a*side_long or abs(sin_a-cos_a) < 1e-10:\n",
    "        x = 0.5*side_short\n",
    "        wr, hr = (x/sin_a, x/cos_a) if width_is_longer else (x/cos_a, x/sin_a)\n",
    "    else:\n",
    "        cos_2a = cos_a*cos_a - sin_a*sin_a\n",
    "        wr, hr = (w*cos_a - h*sin_a)/cos_2a, (h*cos_a - w*sin_a)/cos_2a\n",
    "\n",
    "    return wr, hr\n",
    "\n",
    "def random_rotation(image):\n",
    "    def rotate_fn(image_np):\n",
    "        image_np = np.array(image_np)\n",
    "\n",
    "        h, w, _ = image_np.shape\n",
    "        center = (w / 2, h / 2)\n",
    "        min_angle_rad, max_angle_rad = -math.pi/8, math.pi/8\n",
    "        angle_rad = np.random.uniform(min_angle_rad, max_angle_rad)\n",
    "        angle_deg = math.degrees(angle_rad)\n",
    "        \n",
    "        M = cv2.getRotationMatrix2D(center, angle_deg, 1.0)\n",
    "        rotated_image_np = cv2.warpAffine(image_np, M, (w, h))\n",
    "\n",
    "        wr, hr = rotatedRectWithMaxArea(w, h, angle_rad)\n",
    "        \n",
    "        # Get the starting and ending coordinates for the crop\n",
    "        x1 = int(center[0] - wr // 2)\n",
    "        x2 = int(center[0] + wr // 2)\n",
    "        y1 = int(center[1] - hr // 2)\n",
    "        y2 = int(center[1] + hr // 2)\n",
    "        \n",
    "        cropped_image_np = rotated_image_np[y1:y2, x1:x2]\n",
    "\n",
    "        return cropped_image_np, np.array(angle_deg, dtype=np.float32)\n",
    "\n",
    "    cropped_image, angle = tf.py_function(rotate_fn, [image], [tf.float32, tf.float32])\n",
    "    cropped_image.set_shape(cropped_image.shape)\n",
    "    return cropped_image, angle\n",
    "\n",
    "def preprocess(image):\n",
    "    rotated_image, angle = random_rotation(image)\n",
    "    rotated_image = tf.image.resize(rotated_image, [224, 224])\n",
    "    rotated_image = rotated_image / 255.0\n",
    "\n",
    "    return rotated_image, angle\n"
   ]
  },
  {
   "cell_type": "code",
   "execution_count": 18,
   "id": "9ed399683f3bb3b1",
   "metadata": {},
   "outputs": [],
   "source": [
    "batch_size = 32"
   ]
  },
  {
   "cell_type": "code",
   "execution_count": 19,
   "id": "571a8b39eca28a74",
   "metadata": {
    "ExecuteTime": {
     "end_time": "2023-08-18T21:49:35.161454900Z",
     "start_time": "2023-08-18T21:49:35.104390200Z"
    }
   },
   "outputs": [],
   "source": [
    "train_dataset = tf.data.Dataset.from_tensor_slices(rvl_cdip_images_train_file_list)\n",
    "train_dataset = train_dataset.map(load_image, num_parallel_calls=tf.data.experimental.AUTOTUNE)\n",
    "train_dataset = train_dataset.map(preprocess, num_parallel_calls=tf.data.AUTOTUNE)\n",
    "train_dataset = train_dataset.batch(batch_size)\n",
    "train_dataset = train_dataset.prefetch(tf.data.experimental.AUTOTUNE)"
   ]
  },
  {
   "cell_type": "code",
   "execution_count": 20,
   "id": "9a229dd83f765b4c",
   "metadata": {},
   "outputs": [],
   "source": [
    "test_dataset = tf.data.Dataset.from_tensor_slices(rvl_cdip_images_test_file_list)\n",
    "test_dataset = test_dataset.map(load_image, num_parallel_calls=tf.data.experimental.AUTOTUNE)\n",
    "test_dataset = test_dataset.map(random_rotation, num_parallel_calls=tf.data.AUTOTUNE)\n",
    "test_dataset = test_dataset.batch(batch_size)\n",
    "test_dataset = test_dataset.prefetch(tf.data.experimental.AUTOTUNE)"
   ]
  },
  {
   "cell_type": "code",
   "execution_count": 21,
   "id": "a57e861e3826459c",
   "metadata": {},
   "outputs": [],
   "source": [
    "val_dataset = tf.data.Dataset.from_tensor_slices(rvl_cdip_images_val_file_list)\n",
    "val_dataset = val_dataset.map(load_image, num_parallel_calls=tf.data.experimental.AUTOTUNE)\n",
    "val_dataset = val_dataset.map(random_rotation, num_parallel_calls=tf.data.AUTOTUNE)\n",
    "val_dataset = val_dataset.batch(batch_size) \n",
    "val_dataset = val_dataset.prefetch(tf.data.experimental.AUTOTUNE)"
   ]
  },
  {
   "cell_type": "code",
   "execution_count": 22,
   "id": "fbf7362b55f14126",
   "metadata": {
    "scrolled": false
   },
   "outputs": [
    {
     "ename": "InvalidArgumentError",
     "evalue": "{{function_node __wrapped__IteratorGetNext_output_types_2_device_/job:localhost/replica:0/task:0/device:CPU:0}} Cannot add tensor to the batch: number of elements does not match. Shapes are: [tensor]: [454,60,3], [batch]: [972,716,3] [Op:IteratorGetNext] name: ",
     "output_type": "error",
     "traceback": [
      "\u001B[0;31m---------------------------------------------------------------------------\u001B[0m",
      "\u001B[0;31mInvalidArgumentError\u001B[0m                      Traceback (most recent call last)",
      "Cell \u001B[0;32mIn[22], line 3\u001B[0m\n\u001B[1;32m      1\u001B[0m \u001B[38;5;66;03m# show some of the images\u001B[39;00m\n\u001B[1;32m      2\u001B[0m \u001B[38;5;28;01mimport\u001B[39;00m \u001B[38;5;21;01mmatplotlib\u001B[39;00m\u001B[38;5;21;01m.\u001B[39;00m\u001B[38;5;21;01mpyplot\u001B[39;00m \u001B[38;5;28;01mas\u001B[39;00m \u001B[38;5;21;01mplt\u001B[39;00m\n\u001B[0;32m----> 3\u001B[0m \u001B[38;5;28;01mfor\u001B[39;00m image, y \u001B[38;5;129;01min\u001B[39;00m train_dataset\u001B[38;5;241m.\u001B[39mtake(\u001B[38;5;241m1\u001B[39m):\n\u001B[1;32m      4\u001B[0m     plt\u001B[38;5;241m.\u001B[39mimshow(image[\u001B[38;5;241m0\u001B[39m])\n\u001B[1;32m      5\u001B[0m     plt\u001B[38;5;241m.\u001B[39mshow()\n",
      "File \u001B[0;32m~/.conda/envs/tensorflow_env/lib/python3.10/site-packages/tensorflow/python/data/ops/iterator_ops.py:814\u001B[0m, in \u001B[0;36mOwnedIterator.__next__\u001B[0;34m(self)\u001B[0m\n\u001B[1;32m    812\u001B[0m \u001B[38;5;28;01mdef\u001B[39;00m \u001B[38;5;21m__next__\u001B[39m(\u001B[38;5;28mself\u001B[39m):\n\u001B[1;32m    813\u001B[0m   \u001B[38;5;28;01mtry\u001B[39;00m:\n\u001B[0;32m--> 814\u001B[0m     \u001B[38;5;28;01mreturn\u001B[39;00m \u001B[38;5;28;43mself\u001B[39;49m\u001B[38;5;241;43m.\u001B[39;49m\u001B[43m_next_internal\u001B[49m\u001B[43m(\u001B[49m\u001B[43m)\u001B[49m\n\u001B[1;32m    815\u001B[0m   \u001B[38;5;28;01mexcept\u001B[39;00m errors\u001B[38;5;241m.\u001B[39mOutOfRangeError:\n\u001B[1;32m    816\u001B[0m     \u001B[38;5;28;01mraise\u001B[39;00m \u001B[38;5;167;01mStopIteration\u001B[39;00m\n",
      "File \u001B[0;32m~/.conda/envs/tensorflow_env/lib/python3.10/site-packages/tensorflow/python/data/ops/iterator_ops.py:777\u001B[0m, in \u001B[0;36mOwnedIterator._next_internal\u001B[0;34m(self)\u001B[0m\n\u001B[1;32m    774\u001B[0m \u001B[38;5;66;03m# TODO(b/77291417): This runs in sync mode as iterators use an error status\u001B[39;00m\n\u001B[1;32m    775\u001B[0m \u001B[38;5;66;03m# to communicate that there is no more data to iterate over.\u001B[39;00m\n\u001B[1;32m    776\u001B[0m \u001B[38;5;28;01mwith\u001B[39;00m context\u001B[38;5;241m.\u001B[39mexecution_mode(context\u001B[38;5;241m.\u001B[39mSYNC):\n\u001B[0;32m--> 777\u001B[0m   ret \u001B[38;5;241m=\u001B[39m \u001B[43mgen_dataset_ops\u001B[49m\u001B[38;5;241;43m.\u001B[39;49m\u001B[43miterator_get_next\u001B[49m\u001B[43m(\u001B[49m\n\u001B[1;32m    778\u001B[0m \u001B[43m      \u001B[49m\u001B[38;5;28;43mself\u001B[39;49m\u001B[38;5;241;43m.\u001B[39;49m\u001B[43m_iterator_resource\u001B[49m\u001B[43m,\u001B[49m\n\u001B[1;32m    779\u001B[0m \u001B[43m      \u001B[49m\u001B[43moutput_types\u001B[49m\u001B[38;5;241;43m=\u001B[39;49m\u001B[38;5;28;43mself\u001B[39;49m\u001B[38;5;241;43m.\u001B[39;49m\u001B[43m_flat_output_types\u001B[49m\u001B[43m,\u001B[49m\n\u001B[1;32m    780\u001B[0m \u001B[43m      \u001B[49m\u001B[43moutput_shapes\u001B[49m\u001B[38;5;241;43m=\u001B[39;49m\u001B[38;5;28;43mself\u001B[39;49m\u001B[38;5;241;43m.\u001B[39;49m\u001B[43m_flat_output_shapes\u001B[49m\u001B[43m)\u001B[49m\n\u001B[1;32m    782\u001B[0m   \u001B[38;5;28;01mtry\u001B[39;00m:\n\u001B[1;32m    783\u001B[0m     \u001B[38;5;66;03m# Fast path for the case `self._structure` is not a nested structure.\u001B[39;00m\n\u001B[1;32m    784\u001B[0m     \u001B[38;5;28;01mreturn\u001B[39;00m \u001B[38;5;28mself\u001B[39m\u001B[38;5;241m.\u001B[39m_element_spec\u001B[38;5;241m.\u001B[39m_from_compatible_tensor_list(ret)  \u001B[38;5;66;03m# pylint: disable=protected-access\u001B[39;00m\n",
      "File \u001B[0;32m~/.conda/envs/tensorflow_env/lib/python3.10/site-packages/tensorflow/python/ops/gen_dataset_ops.py:3028\u001B[0m, in \u001B[0;36miterator_get_next\u001B[0;34m(iterator, output_types, output_shapes, name)\u001B[0m\n\u001B[1;32m   3026\u001B[0m   \u001B[38;5;28;01mreturn\u001B[39;00m _result\n\u001B[1;32m   3027\u001B[0m \u001B[38;5;28;01mexcept\u001B[39;00m _core\u001B[38;5;241m.\u001B[39m_NotOkStatusException \u001B[38;5;28;01mas\u001B[39;00m e:\n\u001B[0;32m-> 3028\u001B[0m   \u001B[43m_ops\u001B[49m\u001B[38;5;241;43m.\u001B[39;49m\u001B[43mraise_from_not_ok_status\u001B[49m\u001B[43m(\u001B[49m\u001B[43me\u001B[49m\u001B[43m,\u001B[49m\u001B[43m \u001B[49m\u001B[43mname\u001B[49m\u001B[43m)\u001B[49m\n\u001B[1;32m   3029\u001B[0m \u001B[38;5;28;01mexcept\u001B[39;00m _core\u001B[38;5;241m.\u001B[39m_FallbackException:\n\u001B[1;32m   3030\u001B[0m   \u001B[38;5;28;01mpass\u001B[39;00m\n",
      "File \u001B[0;32m~/.conda/envs/tensorflow_env/lib/python3.10/site-packages/tensorflow/python/framework/ops.py:6656\u001B[0m, in \u001B[0;36mraise_from_not_ok_status\u001B[0;34m(e, name)\u001B[0m\n\u001B[1;32m   6654\u001B[0m \u001B[38;5;28;01mdef\u001B[39;00m \u001B[38;5;21mraise_from_not_ok_status\u001B[39m(e, name):\n\u001B[1;32m   6655\u001B[0m   e\u001B[38;5;241m.\u001B[39mmessage \u001B[38;5;241m+\u001B[39m\u001B[38;5;241m=\u001B[39m (\u001B[38;5;124m\"\u001B[39m\u001B[38;5;124m name: \u001B[39m\u001B[38;5;124m\"\u001B[39m \u001B[38;5;241m+\u001B[39m \u001B[38;5;28mstr\u001B[39m(name \u001B[38;5;28;01mif\u001B[39;00m name \u001B[38;5;129;01mis\u001B[39;00m \u001B[38;5;129;01mnot\u001B[39;00m \u001B[38;5;28;01mNone\u001B[39;00m \u001B[38;5;28;01melse\u001B[39;00m \u001B[38;5;124m\"\u001B[39m\u001B[38;5;124m\"\u001B[39m))\n\u001B[0;32m-> 6656\u001B[0m   \u001B[38;5;28;01mraise\u001B[39;00m core\u001B[38;5;241m.\u001B[39m_status_to_exception(e) \u001B[38;5;28;01mfrom\u001B[39;00m \u001B[38;5;28;01mNone\u001B[39;00m\n",
      "\u001B[0;31mInvalidArgumentError\u001B[0m: {{function_node __wrapped__IteratorGetNext_output_types_2_device_/job:localhost/replica:0/task:0/device:CPU:0}} Cannot add tensor to the batch: number of elements does not match. Shapes are: [tensor]: [454,60,3], [batch]: [972,716,3] [Op:IteratorGetNext] name: "
     ]
    }
   ],
   "source": [
    "# show some of the images\n",
    "for image, y in train_dataset.take(1):\n",
    "    plt.imshow(image[0])\n",
    "    plt.show()"
   ]
  },
  {
   "cell_type": "code",
   "execution_count": null,
   "id": "7b2d607096fb94ac",
   "metadata": {},
   "outputs": [],
   "source": [
    "base_model = tf.keras.applications.MobileNetV3Large(input_shape=(224, 224, 3), include_top=False, weights=\"imagenet\")\n",
    "\n",
    "model = tf.keras.Sequential([\n",
    "    base_model,\n",
    "    tf.keras.layers.GlobalMaxPool2D(),\n",
    "    tf.keras.layers.Dense(512, activation=\"relu\"),\n",
    "    tf.keras.layers.Dropout(0.2),\n",
    "    tf.keras.layers.Dense(256, activation=\"relu\"),\n",
    "    tf.keras.layers.Dropout(0.2),\n",
    "    tf.keras.layers.Dense(1, activation=\"linear\")\n",
    "])"
   ]
  },
  {
   "cell_type": "code",
   "execution_count": null,
   "id": "cee67f06",
   "metadata": {},
   "outputs": [],
   "source": [
    "model.compile(optimizer=tf.keras.optimizers.Adam(learning_rate=0.001), loss=\"mse\", metrics=[\"mae\"])"
   ]
  },
  {
   "cell_type": "code",
   "execution_count": null,
   "id": "cc188668",
   "metadata": {},
   "outputs": [
    {
     "name": "stderr",
     "output_type": "stream",
     "text": [
      "2023-08-19 18:24:50.471628: W tensorflow/core/framework/op_kernel.cc:1816] UNKNOWN: NameError: name 'math' is not defined\n",
      "Traceback (most recent call last):\n",
      "\n",
      "  File \"/home/eh0560/.conda/envs/tensorflow_env/lib/python3.10/site-packages/tensorflow/python/ops/script_ops.py\", line 266, in __call__\n",
      "    return func(device, token, args)\n",
      "\n",
      "  File \"/home/eh0560/.conda/envs/tensorflow_env/lib/python3.10/site-packages/tensorflow/python/ops/script_ops.py\", line 144, in __call__\n",
      "    outputs = self._call(device, args)\n",
      "\n",
      "  File \"/home/eh0560/.conda/envs/tensorflow_env/lib/python3.10/site-packages/tensorflow/python/ops/script_ops.py\", line 151, in _call\n",
      "    ret = self._func(*args)\n",
      "\n",
      "  File \"/home/eh0560/.conda/envs/tensorflow_env/lib/python3.10/site-packages/tensorflow/python/autograph/impl/api.py\", line 643, in wrapper\n",
      "    return func(*args, **kwargs)\n",
      "\n",
      "  File \"/tmp/__autograph_generated_filex9n8wel9.py\", line 19, in rotate_fn\n",
      "    angle_rad = ag__.converted_call(ag__.ld(np).random.uniform, (-ag__.ld(math).pi, ag__.ld(math).pi), None, fscope_1)\n",
      "\n",
      "NameError: name 'math' is not defined\n",
      "\n",
      "\n",
      "2023-08-19 18:24:50.642462: W tensorflow/core/framework/op_kernel.cc:1816] UNKNOWN: NameError: name 'math' is not defined\n",
      "Traceback (most recent call last):\n",
      "\n",
      "  File \"/home/eh0560/.conda/envs/tensorflow_env/lib/python3.10/site-packages/tensorflow/python/ops/script_ops.py\", line 266, in __call__\n",
      "    return func(device, token, args)\n",
      "\n",
      "  File \"/home/eh0560/.conda/envs/tensorflow_env/lib/python3.10/site-packages/tensorflow/python/ops/script_ops.py\", line 144, in __call__\n",
      "    outputs = self._call(device, args)\n",
      "\n",
      "  File \"/home/eh0560/.conda/envs/tensorflow_env/lib/python3.10/site-packages/tensorflow/python/ops/script_ops.py\", line 151, in _call\n",
      "    ret = self._func(*args)\n",
      "\n",
      "  File \"/home/eh0560/.conda/envs/tensorflow_env/lib/python3.10/site-packages/tensorflow/python/autograph/impl/api.py\", line 643, in wrapper\n",
      "    return func(*args, **kwargs)\n",
      "\n",
      "  File \"/tmp/__autograph_generated_filex9n8wel9.py\", line 19, in rotate_fn\n",
      "    angle_rad = ag__.converted_call(ag__.ld(np).random.uniform, (-ag__.ld(math).pi, ag__.ld(math).pi), None, fscope_1)\n",
      "\n",
      "NameError: name 'math' is not defined\n",
      "\n",
      "\n",
      "2023-08-19 18:24:50.795217: W tensorflow/core/framework/op_kernel.cc:1816] UNKNOWN: NameError: name 'math' is not defined\n",
      "Traceback (most recent call last):\n",
      "\n",
      "  File \"/home/eh0560/.conda/envs/tensorflow_env/lib/python3.10/site-packages/tensorflow/python/ops/script_ops.py\", line 266, in __call__\n",
      "    return func(device, token, args)\n",
      "\n",
      "  File \"/home/eh0560/.conda/envs/tensorflow_env/lib/python3.10/site-packages/tensorflow/python/ops/script_ops.py\", line 144, in __call__\n",
      "    outputs = self._call(device, args)\n",
      "\n",
      "  File \"/home/eh0560/.conda/envs/tensorflow_env/lib/python3.10/site-packages/tensorflow/python/ops/script_ops.py\", line 151, in _call\n",
      "    ret = self._func(*args)\n",
      "\n",
      "  File \"/home/eh0560/.conda/envs/tensorflow_env/lib/python3.10/site-packages/tensorflow/python/autograph/impl/api.py\", line 643, in wrapper\n",
      "    return func(*args, **kwargs)\n",
      "\n",
      "  File \"/tmp/__autograph_generated_filex9n8wel9.py\", line 19, in rotate_fn\n",
      "    angle_rad = ag__.converted_call(ag__.ld(np).random.uniform, (-ag__.ld(math).pi, ag__.ld(math).pi), None, fscope_1)\n",
      "\n",
      "NameError: name 'math' is not defined\n",
      "\n",
      "\n"
     ]
    }
   ],
   "source": [
    "history = model.fit(train_dataset, epochs=10, validation_data=val_dataset)"
   ]
  },
  {
   "cell_type": "code",
   "execution_count": null,
   "id": "543c282f",
   "metadata": {},
   "outputs": [],
   "source": []
  }
 ],
 "metadata": {
  "kernelspec": {
   "display_name": "tensorflow_env [~/.conda/envs/tensorflow_env/]",
   "language": "python",
   "name": "conda_tensorflow_env"
  },
  "language_info": {
   "codemirror_mode": {
    "name": "ipython",
    "version": 3
   },
   "file_extension": ".py",
   "mimetype": "text/x-python",
   "name": "python",
   "nbconvert_exporter": "python",
   "pygments_lexer": "ipython3",
   "version": "3.10.12"
  }
 },
 "nbformat": 4,
 "nbformat_minor": 5
}
