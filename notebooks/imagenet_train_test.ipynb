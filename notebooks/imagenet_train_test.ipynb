{
 "cells": [
  {
   "cell_type": "code",
   "execution_count": 1,
   "id": "2d970cba4f03eb5f",
   "metadata": {
    "ExecuteTime": {
     "end_time": "2023-08-18T21:32:27.128811300Z",
     "start_time": "2023-08-18T21:32:27.112502300Z"
    },
    "scrolled": true
   },
   "outputs": [
    {
     "name": "stderr",
     "output_type": "stream",
     "text": [
      "2023-08-19 18:59:47.586666: I tensorflow/core/platform/cpu_feature_guard.cc:182] This TensorFlow binary is optimized to use available CPU instructions in performance-critical operations.\n",
      "To enable the following instructions: AVX2 FMA, in other operations, rebuild TensorFlow with the appropriate compiler flags.\n",
      "2023-08-19 18:59:48.327799: W tensorflow/compiler/tf2tensorrt/utils/py_utils.cc:38] TF-TRT Warning: Could not find TensorRT\n"
     ]
    }
   ],
   "source": [
    "!source $CONDA_PREFIX/etc/conda/activate.d/env_vars.sh\n",
    "\n",
    "import os\n",
    "import tensorflow as tf\n",
    "import matplotlib.pyplot as plt\n",
    "import numpy as np\n",
    "import cv2\n",
    "import math"
   ]
  },
  {
   "cell_type": "code",
   "execution_count": 2,
   "id": "4bc9b1eb201b935a",
   "metadata": {
    "ExecuteTime": {
     "end_time": "2023-08-18T21:33:26.772888500Z",
     "start_time": "2023-08-18T21:33:26.756375200Z"
    }
   },
   "outputs": [],
   "source": [
    "rvl_cdip_images_dir = \"/scratch/gpfs/RUSTOW/rvl_cdip_images/labels\""
   ]
  },
  {
   "cell_type": "code",
   "execution_count": 3,
   "id": "acf98ab044477313",
   "metadata": {
    "ExecuteTime": {
     "end_time": "2023-08-18T21:33:26.922731700Z",
     "start_time": "2023-08-18T21:33:26.906281400Z"
    }
   },
   "outputs": [],
   "source": [
    "rvl_cdip_images_train_file_path = os.path.join(rvl_cdip_images_dir, \"train.txt\")\n",
    "rvl_cdip_images_test_file_path = os.path.join(rvl_cdip_images_dir, \"test.txt\")\n",
    "rvl_cdip_images_val_file_path = os.path.join(rvl_cdip_images_dir, \"val.txt\")"
   ]
  },
  {
   "cell_type": "code",
   "execution_count": 4,
   "id": "e1025582bbf6572c",
   "metadata": {},
   "outputs": [],
   "source": [
    "with open(rvl_cdip_images_train_file_path, \"r\") as f:\n",
    "    rvl_cdip_images_train_file_list = f.readlines()\n",
    "    \n",
    "with open(rvl_cdip_images_test_file_path, \"r\") as f:\n",
    "    rvl_cdip_images_test_file_list = f.readlines()\n",
    "    \n",
    "with open(rvl_cdip_images_val_file_path, \"r\") as f:\n",
    "    rvl_cdip_images_val_file_list = f.readlines()"
   ]
  },
  {
   "cell_type": "code",
   "execution_count": 5,
   "id": "392f62b2",
   "metadata": {},
   "outputs": [],
   "source": [
    "root_dir = \"/scratch/gpfs/RUSTOW/rvl_cdip_images/images\""
   ]
  },
  {
   "cell_type": "code",
   "execution_count": 6,
   "id": "7e159d1f0b485b77",
   "metadata": {},
   "outputs": [],
   "source": [
    "rvl_cdip_images_train_file_list = [x.split(\" \")[0].strip() for x in rvl_cdip_images_train_file_list]\n",
    "rvl_cdip_images_test_file_list = [x.split(\" \")[0].strip() for x in rvl_cdip_images_test_file_list]\n",
    "rvl_cdip_images_val_file_list = [x.split(\" \")[0].strip() for x in rvl_cdip_images_val_file_list]"
   ]
  },
  {
   "cell_type": "code",
   "execution_count": 7,
   "id": "f00834f7",
   "metadata": {},
   "outputs": [],
   "source": [
    "rvl_cdip_images_train_file_list = [os.path.join(root_dir, x) for x in rvl_cdip_images_train_file_list]\n",
    "rvl_cdip_images_test_file_list = [os.path.join(root_dir, x) for x in rvl_cdip_images_test_file_list]\n",
    "rvl_cdip_images_val_file_list = [os.path.join(root_dir, x) for x in rvl_cdip_images_val_file_list]"
   ]
  },
  {
   "cell_type": "code",
   "execution_count": 8,
   "id": "5f1ad4ab2acecd60",
   "metadata": {
    "ExecuteTime": {
     "end_time": "2023-08-18T21:47:58.968967700Z",
     "start_time": "2023-08-18T21:47:58.953335400Z"
    }
   },
   "outputs": [],
   "source": [
    "def load_image(path):\n",
    "    image = tf.io.read_file(path)\n",
    "    image = tf.image.decode_jpeg(image, channels=3)\n",
    "    return image\n",
    "\n",
    "def rotatedRectWithMaxArea(w, h, angle):\n",
    "    if w <= 0 or h <= 0:\n",
    "        return 0, 0\n",
    "\n",
    "    width_is_longer = w >= h\n",
    "    side_long, side_short = (w, h) if width_is_longer else (h, w)\n",
    "\n",
    "    sin_a, cos_a = abs(math.sin(angle)), abs(math.cos(angle))\n",
    "    if side_short <= 2.*sin_a*cos_a*side_long or abs(sin_a-cos_a) < 1e-10:\n",
    "        x = 0.5*side_short\n",
    "        wr, hr = (x/sin_a, x/cos_a) if width_is_longer else (x/cos_a, x/sin_a)\n",
    "    else:\n",
    "        cos_2a = cos_a*cos_a - sin_a*sin_a\n",
    "        wr, hr = (w*cos_a - h*sin_a)/cos_2a, (h*cos_a - w*sin_a)/cos_2a\n",
    "\n",
    "    return wr, hr\n",
    "\n",
    "def random_rotation(image):\n",
    "    def rotate_fn(image_np):\n",
    "        image_np = np.array(image_np)\n",
    "\n",
    "        h, w, _ = image_np.shape\n",
    "        center = (w / 2, h / 2)\n",
    "        min_angle_rad, max_angle_rad = -math.pi/8, math.pi/8\n",
    "        angle_rad = np.random.uniform(min_angle_rad, max_angle_rad)\n",
    "        angle_deg = math.degrees(angle_rad)\n",
    "        \n",
    "        M = cv2.getRotationMatrix2D(center, angle_deg, 1.0)\n",
    "        rotated_image_np = cv2.warpAffine(image_np, M, (w, h))\n",
    "\n",
    "        wr, hr = rotatedRectWithMaxArea(w, h, angle_rad)\n",
    "        \n",
    "        # Get the starting and ending coordinates for the crop\n",
    "        x1 = int(center[0] - wr // 2)\n",
    "        x2 = int(center[0] + wr // 2)\n",
    "        y1 = int(center[1] - hr // 2)\n",
    "        y2 = int(center[1] + hr // 2)\n",
    "        \n",
    "        cropped_image_np = rotated_image_np[y1:y2, x1:x2]\n",
    "\n",
    "        return cropped_image_np, np.array(angle_deg, dtype=np.float32)\n",
    "\n",
    "    cropped_image, angle = tf.py_function(rotate_fn, [image], [tf.float32, tf.float32])\n",
    "    cropped_image.set_shape([None, None, 3])\n",
    "    return cropped_image, angle\n",
    "\n",
    "def preprocess(image):\n",
    "    rotated_image, angle = random_rotation(image)\n",
    "    rotated_image = tf.image.resize(rotated_image, [224, 224])\n",
    "    rotated_image = rotated_image / 255.0\n",
    "\n",
    "    return rotated_image, angle\n"
   ]
  },
  {
   "cell_type": "code",
   "execution_count": 9,
   "id": "9ed399683f3bb3b1",
   "metadata": {},
   "outputs": [],
   "source": [
    "batch_size = 128"
   ]
  },
  {
   "cell_type": "code",
   "execution_count": 10,
   "id": "571a8b39eca28a74",
   "metadata": {
    "ExecuteTime": {
     "end_time": "2023-08-18T21:49:35.161454900Z",
     "start_time": "2023-08-18T21:49:35.104390200Z"
    }
   },
   "outputs": [
    {
     "name": "stderr",
     "output_type": "stream",
     "text": [
      "2023-08-19 18:59:50.095617: I tensorflow/core/common_runtime/gpu/gpu_device.cc:1639] Created device /job:localhost/replica:0/task:0/device:GPU:0 with 79268 MB memory:  -> device: 0, name: NVIDIA A100-SXM4-80GB, pci bus id: 0000:01:00.0, compute capability: 8.0\n"
     ]
    }
   ],
   "source": [
    "train_dataset = tf.data.Dataset.from_tensor_slices(rvl_cdip_images_train_file_list)\n",
    "train_dataset = train_dataset.map(load_image, num_parallel_calls=tf.data.experimental.AUTOTUNE)\n",
    "train_dataset = train_dataset.map(preprocess, num_parallel_calls=tf.data.AUTOTUNE)\n",
    "train_dataset = train_dataset.batch(batch_size)\n",
    "train_dataset = train_dataset.prefetch(tf.data.experimental.AUTOTUNE)"
   ]
  },
  {
   "cell_type": "code",
   "execution_count": 11,
   "id": "9a229dd83f765b4c",
   "metadata": {},
   "outputs": [],
   "source": [
    "test_dataset = tf.data.Dataset.from_tensor_slices(rvl_cdip_images_test_file_list)\n",
    "test_dataset = test_dataset.map(load_image, num_parallel_calls=tf.data.experimental.AUTOTUNE)\n",
    "test_dataset = test_dataset.map(random_rotation, num_parallel_calls=tf.data.AUTOTUNE)\n",
    "test_dataset = test_dataset.batch(batch_size)\n",
    "test_dataset = test_dataset.prefetch(tf.data.experimental.AUTOTUNE)"
   ]
  },
  {
   "cell_type": "code",
   "execution_count": 12,
   "id": "a57e861e3826459c",
   "metadata": {},
   "outputs": [],
   "source": [
    "val_dataset = tf.data.Dataset.from_tensor_slices(rvl_cdip_images_val_file_list)\n",
    "val_dataset = val_dataset.map(load_image, num_parallel_calls=tf.data.experimental.AUTOTUNE)\n",
    "val_dataset = val_dataset.map(random_rotation, num_parallel_calls=tf.data.AUTOTUNE)\n",
    "val_dataset = val_dataset.batch(batch_size) \n",
    "val_dataset = val_dataset.prefetch(tf.data.experimental.AUTOTUNE)"
   ]
  },
  {
   "cell_type": "code",
   "execution_count": 13,
   "id": "fbf7362b55f14126",
   "metadata": {
    "scrolled": false
   },
   "outputs": [
    {
     "data": {
      "image/png": "[encoded data removed]",
      "text/plain": [
       "<Figure size 640x480 with 1 Axes>"
      ]
     },
     "metadata": {},
     "output_type": "display_data"
    }
   ],
   "source": [
    "# show some of the images\n",
    "for image, y in train_dataset.take(1):\n",
    "    plt.imshow(image[0])\n",
    "    plt.show()"
   ]
  },
  {
   "cell_type": "code",
   "execution_count": 14,
   "id": "7b2d607096fb94ac",
   "metadata": {},
   "outputs": [],
   "source": [
    "base_model = tf.keras.applications.MobileNetV3Large(input_shape=(224, 224, 3), include_top=False, weights=\"imagenet\")\n",
    "\n",
    "model = tf.keras.Sequential([\n",
    "    base_model,\n",
    "    tf.keras.layers.GlobalMaxPool2D(),\n",
    "    tf.keras.layers.Dense(512, activation=\"relu\"),\n",
    "    tf.keras.layers.Dropout(0.2),\n",
    "    tf.keras.layers.Dense(256, activation=\"relu\"),\n",
    "    tf.keras.layers.Dropout(0.2),\n",
    "    tf.keras.layers.Dense(1, activation=\"linear\")\n",
    "])"
   ]
  },
  {
   "cell_type": "code",
   "execution_count": 15,
   "id": "cee67f06",
   "metadata": {},
   "outputs": [],
   "source": [
    "model.compile(optimizer=tf.keras.optimizers.Adam(learning_rate=0.001), loss=\"mse\", metrics=[\"mae\"])"
   ]
  },
  {
   "cell_type": "code",
   "execution_count": null,
   "id": "cc188668",
   "metadata": {},
   "outputs": [
    {
     "name": "stdout",
     "output_type": "stream",
     "text": [
      "Epoch 1/10\n"
     ]
    },
    {
     "name": "stderr",
     "output_type": "stream",
     "text": [
      "2023-08-19 19:00:02.218374: I tensorflow/compiler/xla/stream_executor/cuda/cuda_dnn.cc:432] Loaded cuDNN version 8600\n",
      "2023-08-19 19:00:02.304550: I tensorflow/tsl/platform/default/subprocess.cc:304] Start cannot spawn child process: No such file or directory\n",
      "2023-08-19 19:00:03.159602: I tensorflow/compiler/xla/stream_executor/cuda/cuda_blas.cc:606] TensorFloat-32 will be used for the matrix multiplication. This will only be logged once.\n",
      "2023-08-19 19:00:03.282499: I tensorflow/compiler/xla/service/service.cc:168] XLA service 0x14f62f3cfde0 initialized for platform CUDA (this does not guarantee that XLA will be used). Devices:\n",
      "2023-08-19 19:00:03.282537: I tensorflow/compiler/xla/service/service.cc:176]   StreamExecutor device (0): NVIDIA A100-SXM4-80GB, Compute Capability 8.0\n",
      "2023-08-19 19:00:03.287109: I tensorflow/compiler/mlir/tensorflow/utils/dump_mlir_util.cc:255] disabling MLIR crash reproducer, set env var `MLIR_CRASH_REPRODUCER_DIRECTORY` to enable.\n",
      "2023-08-19 19:00:03.385882: I tensorflow/tsl/platform/default/subprocess.cc:304] Start cannot spawn child process: No such file or directory\n",
      "2023-08-19 19:00:03.455749: I ./tensorflow/compiler/jit/device_compiler.h:186] Compiled cluster using XLA!  This line is logged at most once for the lifetime of the process.\n"
     ]
    },
    {
     "name": "stdout",
     "output_type": "stream",
     "text": [
      " 102/2500 [>.............................] - ETA: 48:36 - loss: 67.7843 - mae: 4.7198"
     ]
    }
   ],
   "source": [
    "history = model.fit(train_dataset, epochs=10, validation_data=val_dataset)"
   ]
  },
  {
   "cell_type": "code",
   "execution_count": null,
   "id": "543c282f",
   "metadata": {},
   "outputs": [],
   "source": []
  }
 ],
 "metadata": {
  "kernelspec": {
   "display_name": "tensorflow_env [~/.conda/envs/tensorflow_env/]",
   "language": "python",
   "name": "conda_tensorflow_env"
  },
  "language_info": {
   "codemirror_mode": {
    "name": "ipython",
    "version": 3
   },
   "file_extension": ".py",
   "mimetype": "text/x-python",
   "name": "python",
   "nbconvert_exporter": "python",
   "pygments_lexer": "ipython3",
   "version": "3.10.12"
  }
 },
 "nbformat": 4,
 "nbformat_minor": 5
}
