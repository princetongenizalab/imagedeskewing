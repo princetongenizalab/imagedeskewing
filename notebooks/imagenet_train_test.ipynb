{
 "cells": [
  {
   "cell_type": "code",
   "execution_count": 5,
   "outputs": [],
   "source": [
    "import os\n",
    "import tensorflow as tf"
   ],
   "metadata": {
    "collapsed": false,
    "ExecuteTime": {
     "end_time": "2023-08-18T21:32:27.128811300Z",
     "start_time": "2023-08-18T21:32:27.112502300Z"
    }
   },
   "id": "2d970cba4f03eb5f"
  },
  {
   "cell_type": "code",
   "execution_count": 7,
   "outputs": [],
   "source": [
    "rvl_cdip_images_dir = \"/scratch/gpfs/RUSTOW/rvl_cdip_images/labels\""
   ],
   "metadata": {
    "collapsed": false,
    "ExecuteTime": {
     "end_time": "2023-08-18T21:33:26.772888500Z",
     "start_time": "2023-08-18T21:33:26.756375200Z"
    }
   },
   "id": "4bc9b1eb201b935a"
  },
  {
   "cell_type": "code",
   "execution_count": 8,
   "outputs": [],
   "source": [
    "rvl_cdip_images_train_file_path = os.path.join(rvl_cdip_images_dir, \"train.txt\")\n",
    "rvl_cdip_images_test_file_path = os.path.join(rvl_cdip_images_dir, \"test.txt\")\n",
    "rvl_cdip_images_val_file_path = os.path.join(rvl_cdip_images_dir, \"val.txt\")"
   ],
   "metadata": {
    "collapsed": false,
    "ExecuteTime": {
     "end_time": "2023-08-18T21:33:26.922731700Z",
     "start_time": "2023-08-18T21:33:26.906281400Z"
    }
   },
   "id": "acf98ab044477313"
  },
  {
   "cell_type": "code",
   "execution_count": null,
   "outputs": [],
   "source": [
    "with open(rvl_cdip_images_train_file_path, \"r\") as f:\n",
    "    rvl_cdip_images_train_file_list = f.readlines()\n",
    "    \n",
    "with open(rvl_cdip_images_test_file_path, \"r\") as f:\n",
    "    rvl_cdip_images_test_file_list = f.readlines()\n",
    "    \n",
    "with open(rvl_cdip_images_val_file_path, \"r\") as f:\n",
    "    rvl_cdip_images_val_file_list = f.readlines()"
   ],
   "metadata": {
    "collapsed": false
   },
   "id": "e1025582bbf6572c"
  },
  {
   "cell_type": "code",
   "execution_count": null,
   "outputs": [],
   "source": [
    "rvl_cdip_images_train_file_list = [x.split(\" \")[0].strip() for x in rvl_cdip_images_train_file_list]\n",
    "rvl_cdip_images_test_file_list = [x.split(\" \")[0].strip() for x in rvl_cdip_images_test_file_list]\n",
    "rvl_cdip_images_val_file_list = [x.split(\" \")[0].strip() for x in rvl_cdip_images_val_file_list]"
   ],
   "metadata": {
    "collapsed": false
   },
   "id": "7e159d1f0b485b77"
  },
  {
   "cell_type": "code",
   "execution_count": 9,
   "outputs": [
    {
     "ename": "NameError",
     "evalue": "name 'rvl_cdip_images_train_file_list' is not defined",
     "output_type": "error",
     "traceback": [
      "\u001B[1;31m---------------------------------------------------------------------------\u001B[0m",
      "\u001B[1;31mNameError\u001B[0m                                 Traceback (most recent call last)",
      "Cell \u001B[1;32mIn[9], line 2\u001B[0m\n\u001B[0;32m      1\u001B[0m \u001B[38;5;66;03m# make tf dataset from list of filepaths\u001B[39;00m\n\u001B[1;32m----> 2\u001B[0m rvl_cdip_images_train_dataset \u001B[38;5;241m=\u001B[39m tf\u001B[38;5;241m.\u001B[39mdata\u001B[38;5;241m.\u001B[39mDataset\u001B[38;5;241m.\u001B[39mfrom_tensor_slices(\u001B[43mrvl_cdip_images_train_file_list\u001B[49m)\n\u001B[0;32m      3\u001B[0m rvl_cdip_images_test_dataset \u001B[38;5;241m=\u001B[39m tf\u001B[38;5;241m.\u001B[39mdata\u001B[38;5;241m.\u001B[39mDataset\u001B[38;5;241m.\u001B[39mfrom_tensor_slices(rvl_cdip_images_test_file_list)\n\u001B[0;32m      4\u001B[0m rvl_cdip_images_val_dataset \u001B[38;5;241m=\u001B[39m tf\u001B[38;5;241m.\u001B[39mdata\u001B[38;5;241m.\u001B[39mDataset\u001B[38;5;241m.\u001B[39mfrom_tensor_slices(rvl_cdip_images_val_file_list)\n",
      "\u001B[1;31mNameError\u001B[0m: name 'rvl_cdip_images_train_file_list' is not defined"
     ]
    }
   ],
   "source": [
    "# make tf dataset from list of filepaths\n",
    "rvl_cdip_images_train_dataset = tf.data.Dataset.from_tensor_slices(rvl_cdip_images_train_file_list)\n",
    "rvl_cdip_images_test_dataset = tf.data.Dataset.from_tensor_slices(rvl_cdip_images_test_file_list)\n",
    "rvl_cdip_images_val_dataset = tf.data.Dataset.from_tensor_slices(rvl_cdip_images_val_file_list)"
   ],
   "metadata": {
    "collapsed": false,
    "ExecuteTime": {
     "end_time": "2023-08-18T21:35:30.077191900Z",
     "start_time": "2023-08-18T21:35:28.810378900Z"
    }
   },
   "id": "73860f1f0be8da8b"
  },
  {
   "cell_type": "code",
   "execution_count": null,
   "outputs": [],
   "source": [],
   "metadata": {
    "collapsed": false
   },
   "id": "5f1ad4ab2acecd60"
  }
 ],
 "metadata": {
  "kernelspec": {
   "name": "python3",
   "language": "python",
   "display_name": "Python 3 (ipykernel)"
  }
 },
 "nbformat": 4,
 "nbformat_minor": 5
}
