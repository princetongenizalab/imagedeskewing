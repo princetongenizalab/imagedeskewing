{
 "cells": [
  {
   "cell_type": "code",
   "execution_count": 5,
   "outputs": [],
   "source": [
    "import os\n",
    "import tensorflow as tf"
   ],
   "metadata": {
    "collapsed": false,
    "ExecuteTime": {
     "end_time": "2023-08-18T21:32:27.128811300Z",
     "start_time": "2023-08-18T21:32:27.112502300Z"
    }
   },
   "id": "2d970cba4f03eb5f"
  },
  {
   "cell_type": "code",
   "execution_count": 7,
   "outputs": [],
   "source": [
    "rvl_cdip_images_dir = \"/scratch/gpfs/RUSTOW/rvl_cdip_images/labels\""
   ],
   "metadata": {
    "collapsed": false,
    "ExecuteTime": {
     "end_time": "2023-08-18T21:33:26.772888500Z",
     "start_time": "2023-08-18T21:33:26.756375200Z"
    }
   },
   "id": "4bc9b1eb201b935a"
  },
  {
   "cell_type": "code",
   "execution_count": 8,
   "outputs": [],
   "source": [
    "rvl_cdip_images_train_file_path = os.path.join(rvl_cdip_images_dir, \"train.txt\")\n",
    "rvl_cdip_images_test_file_path = os.path.join(rvl_cdip_images_dir, \"test.txt\")\n",
    "rvl_cdip_images_val_file_path = os.path.join(rvl_cdip_images_dir, \"val.txt\")"
   ],
   "metadata": {
    "collapsed": false,
    "ExecuteTime": {
     "end_time": "2023-08-18T21:33:26.922731700Z",
     "start_time": "2023-08-18T21:33:26.906281400Z"
    }
   },
   "id": "acf98ab044477313"
  },
  {
   "cell_type": "code",
   "execution_count": null,
   "outputs": [],
   "source": [
    "with open(rvl_cdip_images_train_file_path, \"r\") as f:\n",
    "    rvl_cdip_images_train_file_list = f.readlines()\n",
    "    \n",
    "with open(rvl_cdip_images_test_file_path, \"r\") as f:\n",
    "    rvl_cdip_images_test_file_list = f.readlines()\n",
    "    \n",
    "with open(rvl_cdip_images_val_file_path, \"r\") as f:\n",
    "    rvl_cdip_images_val_file_list = f.readlines()"
   ],
   "metadata": {
    "collapsed": false
   },
   "id": "e1025582bbf6572c"
  },
  {
   "cell_type": "code",
   "execution_count": null,
   "outputs": [],
   "source": [
    "rvl_cdip_images_train_file_list = [x.split(\" \")[0].strip() for x in rvl_cdip_images_train_file_list]\n",
    "rvl_cdip_images_test_file_list = [x.split(\" \")[0].strip() for x in rvl_cdip_images_test_file_list]\n",
    "rvl_cdip_images_val_file_list = [x.split(\" \")[0].strip() for x in rvl_cdip_images_val_file_list]"
   ],
   "metadata": {
    "collapsed": false
   },
   "id": "7e159d1f0b485b77"
  },
  {
   "cell_type": "code",
   "execution_count": 10,
   "outputs": [],
   "source": [
    "def load_and_preprocess_image(path):\n",
    "    image = tf.io.read_file(path)\n",
    "    image = tf.image.decode_jpeg(image, channels=3)\n",
    "    image = tf.image.resize(image, [224, 224])  # Resize or any other preprocessing you'd like\n",
    "    image /= 255.0  # Normalize to [0,1]\n",
    "    return image"
   ],
   "metadata": {
    "collapsed": false,
    "ExecuteTime": {
     "end_time": "2023-08-18T21:47:58.968967700Z",
     "start_time": "2023-08-18T21:47:58.953335400Z"
    }
   },
   "id": "5f1ad4ab2acecd60"
  },
  {
   "cell_type": "code",
   "execution_count": null,
   "outputs": [],
   "source": [
    "batch_size = 512"
   ],
   "metadata": {
    "collapsed": false
   },
   "id": "9ed399683f3bb3b1"
  },
  {
   "cell_type": "code",
   "execution_count": 11,
   "outputs": [
    {
     "ename": "NameError",
     "evalue": "name 'rvl_cdip_images_train_file_list' is not defined",
     "output_type": "error",
     "traceback": [
      "\u001B[1;31m---------------------------------------------------------------------------\u001B[0m",
      "\u001B[1;31mNameError\u001B[0m                                 Traceback (most recent call last)",
      "Cell \u001B[1;32mIn[11], line 1\u001B[0m\n\u001B[1;32m----> 1\u001B[0m train_dataset \u001B[38;5;241m=\u001B[39m tf\u001B[38;5;241m.\u001B[39mdata\u001B[38;5;241m.\u001B[39mDataset\u001B[38;5;241m.\u001B[39mfrom_tensor_slices(\u001B[43mrvl_cdip_images_train_file_list\u001B[49m)\n\u001B[0;32m      2\u001B[0m train_dataset \u001B[38;5;241m=\u001B[39m train_dataset\u001B[38;5;241m.\u001B[39mmap(load_and_preprocess_image, num_parallel_calls\u001B[38;5;241m=\u001B[39mtf\u001B[38;5;241m.\u001B[39mdata\u001B[38;5;241m.\u001B[39mexperimental\u001B[38;5;241m.\u001B[39mAUTOTUNE)\n\u001B[0;32m      3\u001B[0m train_dataset \u001B[38;5;241m=\u001B[39m train_dataset\u001B[38;5;241m.\u001B[39mbatch(batch_size)  \u001B[38;5;66;03m# Adjust the batch size as needed\u001B[39;00m\n",
      "\u001B[1;31mNameError\u001B[0m: name 'rvl_cdip_images_train_file_list' is not defined"
     ]
    }
   ],
   "source": [
    "train_dataset = tf.data.Dataset.from_tensor_slices(rvl_cdip_images_train_file_list)\n",
    "train_dataset = train_dataset.map(load_and_preprocess_image, num_parallel_calls=tf.data.experimental.AUTOTUNE)\n",
    "train_dataset = train_dataset.batch(batch_size)\n",
    "train_dataset = train_dataset.prefetch(tf.data.experimental.AUTOTUNE)"
   ],
   "metadata": {
    "collapsed": false,
    "ExecuteTime": {
     "end_time": "2023-08-18T21:49:35.161454900Z",
     "start_time": "2023-08-18T21:49:35.104390200Z"
    }
   },
   "id": "571a8b39eca28a74"
  },
  {
   "cell_type": "code",
   "execution_count": null,
   "outputs": [],
   "source": [
    "test_dataset = tf.data.Dataset.from_tensor_slices(rvl_cdip_images_test_file_list)\n",
    "test_dataset = test_dataset.map(load_and_preprocess_image, num_parallel_calls=tf.data.experimental.AUTOTUNE)\n",
    "test_dataset = test_dataset.batch(batch_size)\n",
    "test_dataset = test_dataset.prefetch(tf.data.experimental.AUTOTUNE)"
   ],
   "metadata": {
    "collapsed": false
   },
   "id": "9a229dd83f765b4c"
  },
  {
   "cell_type": "code",
   "execution_count": null,
   "outputs": [],
   "source": [
    "val_dataset = tf.data.Dataset.from_tensor_slices(rvl_cdip_images_val_file_list)\n",
    "val_dataset = val_dataset.map(load_and_preprocess_image, num_parallel_calls=tf.data.experimental.AUTOTUNE)\n",
    "val_dataset = val_dataset.batch(batch_size) \n",
    "val_dataset = val_dataset.prefetch(tf.data.experimental.AUTOTUNE)"
   ],
   "metadata": {
    "collapsed": false
   },
   "id": "a57e861e3826459c"
  },
  {
   "cell_type": "code",
   "execution_count": null,
   "outputs": [],
   "source": [
    "# show some of the images\n",
    "import matplotlib.pyplot as plt\n",
    "for image in train_dataset.take(1):\n",
    "    plt.imshow(image[0])\n",
    "    plt.show()"
   ],
   "metadata": {
    "collapsed": false
   },
   "id": "fbf7362b55f14126"
  },
  {
   "cell_type": "code",
   "execution_count": null,
   "outputs": [],
   "source": [
    "# create the base pre-trained model\n",
    "\n",
    "# base_model = tf.keras.applications.VGG16(weights='imagenet', include_top=False, input_shape=(224, 224, 3))"
   ],
   "metadata": {
    "collapsed": false
   },
   "id": "7b2d607096fb94ac"
  }
 ],
 "metadata": {
  "kernelspec": {
   "name": "python3",
   "language": "python",
   "display_name": "Python 3 (ipykernel)"
  }
 },
 "nbformat": 4,
 "nbformat_minor": 5
}
